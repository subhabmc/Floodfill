{
 "cells": [
  {
   "cell_type": "code",
   "execution_count": 11,
   "metadata": {},
   "outputs": [],
   "source": [
    "from PIL import Image\n",
    "import matplotlib.pyplot as plt"
   ]
  },
  {
   "cell_type": "code",
   "execution_count": 12,
   "metadata": {},
   "outputs": [
    {
     "data": {
      "text/plain": [
       "<matplotlib.image.AxesImage at 0x181f814dfc8>"
      ]
     },
     "execution_count": 12,
     "metadata": {},
     "output_type": "execute_result"
    },
    {
     "data": {
      "image/png": "[encoded data removed]",
      "text/plain": [
       "<Figure size 432x288 with 1 Axes>"
      ]
     },
     "metadata": {
      "needs_background": "light"
     },
     "output_type": "display_data"
    }
   ],
   "source": [
    "#Load and display original image\n",
    "img = Image.open('Untitled.png')\n",
    "input_image = img.load()\n",
    "plt.imshow(img)"
   ]
  },
  {
   "cell_type": "code",
   "execution_count": 13,
   "metadata": {},
   "outputs": [],
   "source": [
    "def floodfill(input_image,width,height,u,v,s_r,s_g,s_b):\n",
    "    #Initializing the visit state of image pixels for use in queue later on\n",
    "    visited = []\n",
    "    for i in range(height):\n",
    "        visited.append([False for j in range(width)]) \n",
    "        \n",
    "    #Initial colour of selected pixel\n",
    "    base_r,base_g,base_b=input_image[u,v]\n",
    "    \n",
    "    #Visiting and colouring pixels with the same initial colour as that of the selected pixel\n",
    "    queue = [(u, v)]\n",
    "    while queue:\n",
    "        index = queue.pop()\n",
    "        i = index[0]\n",
    "        j = index[1]\n",
    "        visited[i][j] = True     #Mark as visited\n",
    "        #Check if colour is same as selected pixel\n",
    "        if input_image[i,j][0]==base_r and input_image[i,j][1]==base_g and input_image[i,j][2]==base_b:\n",
    "            input_image[i, j] = (s_r, s_g, s_b) \n",
    "            neighbours = bfs(i, j, height, width,visited)\n",
    "            for n in neighbours:\n",
    "                queue.append(n) #Add pixels to queue to possibly be coloured later on\n",
    "                    \n",
    "def bfs(i, j, n, m,visited) :\n",
    "    #This function checks and returns all neighbouring pixels that have not yet been visited\n",
    "    arr = []\n",
    "    if i-1 >= 0 and j-1 >= 0 and not visited[i-1][j-1]:\n",
    "        arr.append((i-1, j-1))\n",
    "    if i-1 >= 0 :\n",
    "        arr.append((i-1, j))\n",
    "    if i-1 >= 0 and j+1 < m and not visited[i-1][j+1]:\n",
    "        arr.append((i-1, j+1))\n",
    "    if j+1 < m and not visited[i][j+1]:\n",
    "        arr.append((i, j+1))\n",
    "    if i+1 < n and j+1 < m and not visited[i+1][j+1]:\n",
    "        arr.append((i+1, j+1))\n",
    "    if i+1 < n and not visited[i+1][j]:\n",
    "        arr.append((i+1, j))\n",
    "    if i+1 < n and j-1 >= 0 and not visited[i+1][j-1]:\n",
    "        arr.append((i+1, j-1))\n",
    "    if j-1 >= 0 and not visited[i][j-1]:\n",
    "        arr.append((i, j-1))\n",
    "    return arr\n",
    "\n",
    "#The image has been loaded previously for displaying but the operation is repeated here for convenience\n",
    "img = Image.open('Untitled.png')\n",
    "input_image = img.load()\n",
    "\n",
    "#Input image dimensions\n",
    "width = img.size[1]\n",
    "height = img.size[0]      \n",
    "\n",
    "#Point selected on screen\n",
    "u=500\n",
    "v=300\n",
    "\n",
    "#Handle points outside image boundaries\n",
    "if u>width or u<0 or v>height or v<0:\n",
    "  raise Exception(\"Point outside image bounds\")\n",
    "\n",
    "#Target colour\n",
    "s_r,s_g,s_b=34, 139, 34\n",
    "\n",
    "#Passing the image to the floodfill function along with other necessary parameters\n",
    "floodfill(input_image,width,height,u,v,s_r,s_g,s_b)\n",
    "\n"
   ]
  },
  {
   "cell_type": "code",
   "execution_count": 14,
   "metadata": {},
   "outputs": [
    {
     "data": {
      "text/plain": [
       "<matplotlib.image.AxesImage at 0x181f4d8d588>"
      ]
     },
     "execution_count": 14,
     "metadata": {},
     "output_type": "execute_result"
    },
    {
     "data": {
      "image/png": "[encoded data removed]",
      "text/plain": [
       "<Figure size 432x288 with 1 Axes>"
      ]
     },
     "metadata": {
      "needs_background": "light"
     },
     "output_type": "display_data"
    }
   ],
   "source": [
    "#Display floodfilled image\n",
    "plt.imshow(img)"
   ]
  },
  {
   "cell_type": "markdown",
   "metadata": {},
   "source": [
    "Code Description : The code is implemented based on Breadth First Search where all pixels of the image are initially marked as unvisited. The desired pixel to be coloured is selected along with the target colour. The function then goes through all unvisited neighbours, expanding radially and adding them to queue. If the neighbours share the same initial colour as that of the selected pixel, they are coloured."
   ]
  },
  {
   "cell_type": "code",
   "execution_count": null,
   "metadata": {},
   "outputs": [],
   "source": []
  }
 ],
 "metadata": {
  "kernelspec": {
   "display_name": "Python 3",
   "language": "python",
   "name": "python3"
  },
  "language_info": {
   "codemirror_mode": {
    "name": "ipython",
    "version": 3
   },
   "file_extension": ".py",
   "mimetype": "text/x-python",
   "name": "python",
   "nbconvert_exporter": "python",
   "pygments_lexer": "ipython3",
   "version": "3.7.9"
  }
 },
 "nbformat": 4,
 "nbformat_minor": 4
}
